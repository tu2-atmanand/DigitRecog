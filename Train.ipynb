{
  "nbformat": 4,
  "nbformat_minor": 0,
  "metadata": {
    "colab": {
      "provenance": []
    },
    "kernelspec": {
      "name": "python3",
      "display_name": "Python 3"
    },
    "language_info": {
      "name": "python"
    }
  },
  "cells": [
    {
      "cell_type": "code",
      "execution_count": null,
      "metadata": {
        "id": "Y7IOEhjevSOn"
      },
      "outputs": [],
      "source": [
        "import keras\n",
        "from keras.datasets import mnist\n",
        "from keras.models import sequential\n",
        "from keras.layers import Dense, Dropout, Flatten , Conv2D, MaxPool2D"
      ]
    },
    {
      "cell_type": "code",
      "source": [
        "(x_train, y_train), (x_test, y_test) = mnist.load_data()"
      ],
      "metadata": {
        "id": "NvUe0cAKwZKT"
      },
      "execution_count": null,
      "outputs": []
    },
    {
      "cell_type": "code",
      "source": [
        "print(x_test.shape)"
      ],
      "metadata": {
        "colab": {
          "base_uri": "https://localhost:8080/"
        },
        "id": "08x5d-sixC_c",
        "outputId": "34f36d42-a9cd-43c5-a2c4-ca5e18c109c7"
      },
      "execution_count": null,
      "outputs": [
        {
          "output_type": "stream",
          "name": "stdout",
          "text": [
            "(10000, 28, 28)\n"
          ]
        }
      ]
    },
    {
      "cell_type": "code",
      "source": [
        "x_train = x_train.reshape(x_train.shape[0],28,28,1)\n",
        "x_test = x_test.reshape(x_test.shape[0],28,28,1)"
      ],
      "metadata": {
        "id": "UgTjLsPkxw0J"
      },
      "execution_count": null,
      "outputs": []
    },
    {
      "cell_type": "code",
      "source": [
        "input_shape = {28,28,1}"
      ],
      "metadata": {
        "id": "13qgnbLszBDG"
      },
      "execution_count": null,
      "outputs": []
    },
    {
      "cell_type": "code",
      "source": [
        "y_train = keras.utils.np_utils.to_categorical(y_train,10)\n",
        "y_test = keras.utils.np_utils.to_categorical(y_test,10)"
      ],
      "metadata": {
        "id": "iIUoyW2czNph"
      },
      "execution_count": null,
      "outputs": []
    },
    {
      "cell_type": "code",
      "source": [
        "x_train = x_train.astype('float32')\n",
        "x_test = x_test.astype('float32')\n",
        "\n",
        "x_train /= 255\n",
        "x_test /= 255"
      ],
      "metadata": {
        "id": "3gN23_hQzxw8"
      },
      "execution_count": null,
      "outputs": []
    },
    {
      "cell_type": "code",
      "source": [
        "batch_seze = 128\n",
        "num_classes = 10\n",
        "epochs = 10"
      ],
      "metadata": {
        "id": "WM56f8Ar1ne6"
      },
      "execution_count": null,
      "outputs": []
    },
    {
      "cell_type": "code",
      "source": [
        "from keras import activations\n",
        "from logging import NullHandler\n",
        "from keras.engine.sequential import Sequential\n",
        "from keras.layers.pooling import MaxPooling2D\n",
        "from keras.layers.core.activation import Activation\n",
        "from threading import active_count\n",
        "from keras.backend import conv2d\n",
        "model = Sequential()\n",
        "# model.add(conv2d(32,kernel_size=(5,5), activation='relu',input_size=input_size))\n",
        "model.add(Conv2D(32, (3, 3), padding=\"same\", activation=\"relu\"))\n",
        "model.add(MaxPooling2D(pool_size=(2,2)))\n",
        "model.add(Conv2D(64,(3,3),activation='relu'))\n",
        "model.add(MaxPooling2D(pool_size=(2,2)))\n",
        "model.add(Flatten())\n",
        "model.add(Dense(128,activation='relu'))\n",
        "model.add(Dropout(0.3))\n",
        "model.add(Dense(64,activation='relu'))\n",
        "model.add(Dropout(0.5))\n",
        "model.add(Dense(num_classes,activation='softmax'))"
      ],
      "metadata": {
        "id": "y2vkRFrL1068"
      },
      "execution_count": null,
      "outputs": []
    },
    {
      "cell_type": "code",
      "source": [
        "# model.compile(loss=keras.losses.CategoricalCrossentropy, optimizer=keras.optimizers.adadelta_v2(), metrics=['accuracy'])\n",
        "model.compile(loss='categorical_crossentropy', optimizer='adam', metrics=['accuracy'])"
      ],
      "metadata": {
        "id": "C0OKOkUo44cU"
      },
      "execution_count": null,
      "outputs": []
    },
    {
      "cell_type": "code",
      "source": [
        "model.fit(x_train,y_train,batch_size=batch_seze, epochs=epochs, verbose=1, validation_data=(x_test,y_test))\n",
        "# model.fit( x_train, y_train, batch_size=128, epochs=10)"
      ],
      "metadata": {
        "colab": {
          "base_uri": "https://localhost:8080/"
        },
        "id": "Wq8JS9OcBzbA",
        "outputId": "3ad7f397-c525-4876-d8f3-e3ef382bdf15"
      },
      "execution_count": null,
      "outputs": [
        {
          "output_type": "stream",
          "name": "stdout",
          "text": [
            "Epoch 1/10\n",
            "469/469 [==============================] - 66s 139ms/step - loss: 0.4323 - accuracy: 0.8645 - val_loss: 0.0664 - val_accuracy: 0.9783\n",
            "Epoch 2/10\n",
            "469/469 [==============================] - 55s 118ms/step - loss: 0.1275 - accuracy: 0.9653 - val_loss: 0.0542 - val_accuracy: 0.9822\n",
            "Epoch 3/10\n",
            "469/469 [==============================] - 56s 120ms/step - loss: 0.0919 - accuracy: 0.9758 - val_loss: 0.0411 - val_accuracy: 0.9865\n",
            "Epoch 4/10\n",
            "469/469 [==============================] - 59s 125ms/step - loss: 0.0706 - accuracy: 0.9812 - val_loss: 0.0392 - val_accuracy: 0.9875\n",
            "Epoch 5/10\n",
            "469/469 [==============================] - 56s 118ms/step - loss: 0.0612 - accuracy: 0.9840 - val_loss: 0.0291 - val_accuracy: 0.9911\n",
            "Epoch 6/10\n",
            "469/469 [==============================] - 55s 118ms/step - loss: 0.0523 - accuracy: 0.9865 - val_loss: 0.0347 - val_accuracy: 0.9891\n",
            "Epoch 7/10\n",
            "469/469 [==============================] - 55s 118ms/step - loss: 0.0472 - accuracy: 0.9878 - val_loss: 0.0354 - val_accuracy: 0.9898\n",
            "Epoch 8/10\n",
            "469/469 [==============================] - 55s 118ms/step - loss: 0.0414 - accuracy: 0.9891 - val_loss: 0.0295 - val_accuracy: 0.9916\n",
            "Epoch 9/10\n",
            "469/469 [==============================] - 55s 118ms/step - loss: 0.0378 - accuracy: 0.9895 - val_loss: 0.0297 - val_accuracy: 0.9920\n",
            "Epoch 10/10\n",
            "469/469 [==============================] - 56s 119ms/step - loss: 0.0335 - accuracy: 0.9916 - val_loss: 0.0301 - val_accuracy: 0.9927\n"
          ]
        },
        {
          "output_type": "execute_result",
          "data": {
            "text/plain": [
              "<keras.callbacks.History at 0x7fcdf854a810>"
            ]
          },
          "metadata": {},
          "execution_count": 11
        }
      ]
    },
    {
      "cell_type": "code",
      "source": [
        "model.save(\"modell.h5\")"
      ],
      "metadata": {
        "id": "1_w7CIZYPprz"
      },
      "execution_count": null,
      "outputs": []
    },
    {
      "cell_type": "code",
      "source": [
        "python --version"
      ],
      "metadata": {
        "id": "4x3M7tHBPujd"
      },
      "execution_count": null,
      "outputs": []
    },
    {
      "cell_type": "markdown",
      "source": [
        "# New Section"
      ],
      "metadata": {
        "id": "hfdygEepPyD7"
      }
    }
  ]
}